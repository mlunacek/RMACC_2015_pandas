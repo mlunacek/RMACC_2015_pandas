{
 "cells": [
  {
   "cell_type": "markdown",
   "metadata": {},
   "source": [
    "#Data Analysis with `pandas` "
   ]
  },
  {
   "cell_type": "markdown",
   "metadata": {},
   "source": [
    "### Munging\n",
    "\n",
    "- select, filter\n",
    "- groupby\n",
    "- aggregate\n",
    "- reshape (pivot)\n",
    "\n",
    "### Statistics and ML\n",
    "\n",
    "- Clustering\n",
    "- Dimensionality reduction\n",
    "- Modeling"
   ]
  },
  {
   "cell_type": "markdown",
   "metadata": {},
   "source": [
    "##Resources\n",
    "\n",
    "###Data Analysis and  `pandas`\n",
    "\n",
    "#### Text\n",
    "\n",
    "- [Python for Data Analysis](http://www.amazon.com/Python-Data-Analysis-Wrangling-IPython/dp/1449319793) by Wes McKinney\n",
    "\n",
    "#### Documentation\n",
    "- [pandas.pydata.org](http://pandas.pydata.org/)\n",
    "- [Comparision with SQL](http://pandas.pydata.org/pandas-docs/stable/comparison_with_sql.html)\n",
    "\n",
    "#### Other\n",
    "\n",
    "- [Tidy data](http://vita.had.co.nz/papers/tidy-data.pdf) by Hadley Wickham\n",
    "- [Data Wrangling Kung Fu with Pandas](vimeo.com/63295598) by Wes McKinney\n",
    "\n",
    "###Machine Learning and  `sklearn`\n",
    "\n",
    "#### Text\n",
    "\n",
    "- [Elements of Statistical Learning](http://statweb.stanford.edu/~tibs/ElemStatLearn/) \\$71 (free PDF)\n",
    "- [Introduction to Statistical Learning](http://www-bcf.usc.edu/~gareth/ISL/) \\$54 (free PDF)\n",
    "- [Learn from Data](http://www.amazon.com/gp/product/1600490069) \\$28\n",
    "\n",
    "#### Online classes\n",
    "\n",
    "- [Stanford's Introduction to Statistical Learning](http://online.stanford.edu/course/statistical-learning-winter-2014)\n",
    "- [Coursera's Machine Learning](https://www.coursera.org/course/ml)\n",
    "- [Caltech's Learning from Data](http://work.caltech.edu/telecourse.html)\n",
    "\n",
    "#### Websites\n",
    "\n",
    "- [Kaggle](http://www.kaggle.com)\n",
    "- [Metaoptimize](http://metaoptimize.com/)\n",
    "\n",
    "#### Online `sklearn` videos\n",
    "\n",
    "- [Jake Vanderplas'](http://www.astro.washington.edu/users/vanderplas/) excellent videos on Scikit-learn:\n",
    "    - [PyData NYC 2013](https://vimeo.com/80093925) 1.5 hours\n",
    "    - [Scipy 2013](http://pyvideo.org/video/2157/intro-to-scikit-learn-i-scipy2013-tutorial-pa-7) 8 hours.\n",
    "    - [PyCon 2013](http://www.youtube.com/watch?v=4ONBVNm3isI) 3 hours.\n",
    "    - [PyData NYC 2012](http://vimeo.com/53062607) 45 minutes.\n",
    "\n",
    "\n",
    "\n"
   ]
  },
  {
   "cell_type": "markdown",
   "metadata": {},
   "source": [
    "## Easy reading "
   ]
  },
  {
   "cell_type": "code",
   "execution_count": 27,
   "metadata": {
    "collapsed": true
   },
   "outputs": [],
   "source": [
    "import utils"
   ]
  },
  {
   "cell_type": "code",
   "execution_count": 22,
   "metadata": {
    "collapsed": false
   },
   "outputs": [
    {
     "data": {
      "text/plain": [
       "Index([u'triplex_meter_0', u'triplex_meter_1', u'triplex_meter_2',\n",
       "       u'triplex_meter_3', u'triplex_meter_4', u'triplex_meter_5',\n",
       "       u'triplex_meter_6', u'triplex_meter_7', u'triplex_meter_8',\n",
       "       u'triplex_meter_9', u'triplex_meter_10', u'triplex_meter_11',\n",
       "       u'triplex_meter_12', u'triplex_meter_13', u'triplex_meter_14',\n",
       "       u'triplex_meter_15', u'triplex_meter_16', u'triplex_meter_17',\n",
       "       u'triplex_meter_18', u'triplex_meter_19'],\n",
       "      dtype='object')"
      ]
     },
     "execution_count": 22,
     "metadata": {},
     "output_type": "execute_result"
    }
   ],
   "source": [
    "df = utils.read_csv('data/neighborhood/outputFiles/triplex_meter:measured_real_power.csv')\n",
    "df.columns = [ x.replace('triplex_meter:measured_real_power:','') for x in df.columns ]\n",
    "df.columns"
   ]
  },
  {
   "cell_type": "code",
   "execution_count": 23,
   "metadata": {
    "collapsed": true
   },
   "outputs": [],
   "source": [
    "filename = 'measured_real_power'\n",
    "\n",
    "with open('data/{}.csv'.format(filename), 'w') as outfile:\n",
    "    outfile.write(\"\"\"# file...... {}.csv\n",
    "# date...... Tue Aug 11 13:56:33 2015\n",
    "# user...... mlunacek\n",
    "# host...... (null)\n",
    "# group..... class=house\n",
    "# property.. {}\n",
    "# limit..... 0\n",
    "# interval.. 60\n",
    "# \"\"\".format(filename, filename))\n",
    "\n",
    "df.to_csv('data/{}.csv'.format(filename), mode='a')"
   ]
  },
  {
   "cell_type": "code",
   "execution_count": 18,
   "metadata": {
    "collapsed": false
   },
   "outputs": [
    {
     "name": "stdout",
     "output_type": "stream",
     "text": [
      "# file...... measured_real_power.csv\r\n",
      "# date...... Tue Aug 11 13:56:33 2015\r\n",
      "# user...... mlunacek\r\n",
      "# host...... (null)\r\n",
      "# group..... class=house\r\n",
      "# property.. measured_real_power\r\n",
      "# limit..... 0\r\n",
      "# interval.. 60\r\n",
      "# timestamp,triplex_meter_0,triplex_meter_1,triplex_meter_2,triplex_meter_3,triplex_meter_4,triplex_meter_5,triplex_meter_6,triplex_meter_7,triplex_meter_8,triplex_meter_9,triplex_meter_10,triplex_meter_11,triplex_meter_12,triplex_meter_13,triplex_meter_14,triplex_meter_15,triplex_meter_16,triplex_meter_17,triplex_meter_18,triplex_meter_19\r\n",
      "2013-07-01 00:00:00 UTC,510.912,510.912,510.912,547.924,510.912,510.912,547.924,547.924,581.637,581.637,384.146,384.146,384.146,531.494,531.494,531.494,530.845,530.845,271.123,383.677\r\n"
     ]
    }
   ],
   "source": [
    "!head data/measured_real_power.csv"
   ]
  },
  {
   "cell_type": "code",
   "execution_count": 25,
   "metadata": {
    "collapsed": false
   },
   "outputs": [
    {
     "data": {
      "text/plain": [
       "Index([u'triplex_meter_0', u'triplex_meter_1', u'triplex_meter_2',\n",
       "       u'triplex_meter_3', u'triplex_meter_4', u'triplex_meter_5',\n",
       "       u'triplex_meter_6', u'triplex_meter_7', u'triplex_meter_8',\n",
       "       u'triplex_meter_9', u'triplex_meter_10', u'triplex_meter_11',\n",
       "       u'triplex_meter_12', u'triplex_meter_13', u'triplex_meter_14',\n",
       "       u'triplex_meter_15', u'triplex_meter_16', u'triplex_meter_17',\n",
       "       u'triplex_meter_18', u'triplex_meter_19'],\n",
       "      dtype='object')"
      ]
     },
     "execution_count": 25,
     "metadata": {},
     "output_type": "execute_result"
    }
   ],
   "source": [
    "df = utils.read_csv('data/neighborhood/outputFiles/triplex_meter:measured_reactive_power.csv')\n",
    "df.columns = [ x.replace('triplex_meter:measured_reactive_power:','') for x in df.columns ]\n",
    "df.columns"
   ]
  },
  {
   "cell_type": "code",
   "execution_count": 26,
   "metadata": {
    "collapsed": true
   },
   "outputs": [],
   "source": [
    "filename = 'measured_reactive_power'\n",
    "\n",
    "with open('data/{}.csv'.format(filename), 'w') as outfile:\n",
    "    outfile.write(\"\"\"# file...... {}.csv\n",
    "# date...... Tue Aug 11 13:56:33 2015\n",
    "# user...... mlunacek\n",
    "# host...... (null)\n",
    "# group..... class=house\n",
    "# property.. {}\n",
    "# limit..... 0\n",
    "# interval.. 60\n",
    "# \"\"\".format(filename, filename))\n",
    "\n",
    "df.to_csv('data/{}.csv'.format(filename), mode='a')"
   ]
  },
  {
   "cell_type": "code",
   "execution_count": 50,
   "metadata": {
    "collapsed": false
   },
   "outputs": [],
   "source": [
    "import tdshub as hub\n",
    "import pandas as pd"
   ]
  },
  {
   "cell_type": "code",
   "execution_count": 35,
   "metadata": {
    "collapsed": true
   },
   "outputs": [],
   "source": [
    "g = hub.load('data/neighborhood/model.glm')"
   ]
  },
  {
   "cell_type": "code",
   "execution_count": 52,
   "metadata": {
    "collapsed": false
   },
   "outputs": [
    {
     "data": {
      "text/html": [
       "<div>\n",
       "<table border=\"1\" class=\"dataframe\">\n",
       "  <thead>\n",
       "    <tr style=\"text-align: right;\">\n",
       "      <th></th>\n",
       "      <th>triplex_meter</th>\n",
       "      <th>type</th>\n",
       "    </tr>\n",
       "  </thead>\n",
       "  <tbody>\n",
       "    <tr>\n",
       "      <th>0</th>\n",
       "      <td>triplex_meter_11</td>\n",
       "      <td>nosolar</td>\n",
       "    </tr>\n",
       "    <tr>\n",
       "      <th>1</th>\n",
       "      <td>triplex_meter_18</td>\n",
       "      <td>nosolar</td>\n",
       "    </tr>\n",
       "    <tr>\n",
       "      <th>2</th>\n",
       "      <td>triplex_meter_19</td>\n",
       "      <td>solar</td>\n",
       "    </tr>\n",
       "    <tr>\n",
       "      <th>3</th>\n",
       "      <td>triplex_meter_10</td>\n",
       "      <td>solar</td>\n",
       "    </tr>\n",
       "    <tr>\n",
       "      <th>4</th>\n",
       "      <td>triplex_meter_17</td>\n",
       "      <td>solar</td>\n",
       "    </tr>\n",
       "    <tr>\n",
       "      <th>5</th>\n",
       "      <td>triplex_meter_14</td>\n",
       "      <td>nosolar</td>\n",
       "    </tr>\n",
       "    <tr>\n",
       "      <th>6</th>\n",
       "      <td>triplex_meter_15</td>\n",
       "      <td>solar</td>\n",
       "    </tr>\n",
       "    <tr>\n",
       "      <th>7</th>\n",
       "      <td>triplex_meter_16</td>\n",
       "      <td>solar</td>\n",
       "    </tr>\n",
       "    <tr>\n",
       "      <th>8</th>\n",
       "      <td>triplex_meter_8</td>\n",
       "      <td>solar</td>\n",
       "    </tr>\n",
       "    <tr>\n",
       "      <th>9</th>\n",
       "      <td>triplex_meter_9</td>\n",
       "      <td>nosolar</td>\n",
       "    </tr>\n",
       "    <tr>\n",
       "      <th>10</th>\n",
       "      <td>triplex_meter_0</td>\n",
       "      <td>solar</td>\n",
       "    </tr>\n",
       "    <tr>\n",
       "      <th>11</th>\n",
       "      <td>triplex_meter_1</td>\n",
       "      <td>solar</td>\n",
       "    </tr>\n",
       "    <tr>\n",
       "      <th>12</th>\n",
       "      <td>triplex_meter_2</td>\n",
       "      <td>nosolar</td>\n",
       "    </tr>\n",
       "    <tr>\n",
       "      <th>13</th>\n",
       "      <td>triplex_meter_3</td>\n",
       "      <td>nosolar</td>\n",
       "    </tr>\n",
       "    <tr>\n",
       "      <th>14</th>\n",
       "      <td>triplex_meter_4</td>\n",
       "      <td>nosolar</td>\n",
       "    </tr>\n",
       "    <tr>\n",
       "      <th>15</th>\n",
       "      <td>triplex_meter_5</td>\n",
       "      <td>solar</td>\n",
       "    </tr>\n",
       "    <tr>\n",
       "      <th>16</th>\n",
       "      <td>triplex_meter_6</td>\n",
       "      <td>nosolar</td>\n",
       "    </tr>\n",
       "    <tr>\n",
       "      <th>17</th>\n",
       "      <td>triplex_meter_7</td>\n",
       "      <td>nosolar</td>\n",
       "    </tr>\n",
       "    <tr>\n",
       "      <th>18</th>\n",
       "      <td>triplex_meter_12</td>\n",
       "      <td>nosolar</td>\n",
       "    </tr>\n",
       "    <tr>\n",
       "      <th>19</th>\n",
       "      <td>triplex_meter_13</td>\n",
       "      <td>solar</td>\n",
       "    </tr>\n",
       "  </tbody>\n",
       "</table>\n",
       "</div>"
      ],
      "text/plain": [
       "       triplex_meter     type\n",
       "0   triplex_meter_11  nosolar\n",
       "1   triplex_meter_18  nosolar\n",
       "2   triplex_meter_19    solar\n",
       "3   triplex_meter_10    solar\n",
       "4   triplex_meter_17    solar\n",
       "5   triplex_meter_14  nosolar\n",
       "6   triplex_meter_15    solar\n",
       "7   triplex_meter_16    solar\n",
       "8    triplex_meter_8    solar\n",
       "9    triplex_meter_9  nosolar\n",
       "10   triplex_meter_0    solar\n",
       "11   triplex_meter_1    solar\n",
       "12   triplex_meter_2  nosolar\n",
       "13   triplex_meter_3  nosolar\n",
       "14   triplex_meter_4  nosolar\n",
       "15   triplex_meter_5    solar\n",
       "16   triplex_meter_6  nosolar\n",
       "17   triplex_meter_7  nosolar\n",
       "18  triplex_meter_12  nosolar\n",
       "19  triplex_meter_13    solar"
      ]
     },
     "execution_count": 52,
     "metadata": {},
     "output_type": "execute_result"
    }
   ],
   "source": [
    "def create_solar_lookup():\n",
    "    for meter in g.names('triplex_meter'):\n",
    "        if len(g.graph.successors(meter)) == 2:\n",
    "            yield meter, 'solar'\n",
    "        else:\n",
    "            yield meter, 'nosolar'\n",
    "\n",
    "df = pd.DataFrame(list(create_solar_lookup()))\n",
    "df.columns = ['triplex_meter', 'type']\n",
    "df"
   ]
  },
  {
   "cell_type": "code",
   "execution_count": 55,
   "metadata": {
    "collapsed": true
   },
   "outputs": [],
   "source": [
    "df.to_csv('data/triplex_meter_solar.csv', index=False)"
   ]
  },
  {
   "cell_type": "code",
   "execution_count": null,
   "metadata": {
    "collapsed": true
   },
   "outputs": [],
   "source": []
  }
 ],
 "metadata": {
  "kernelspec": {
   "display_name": "Python 2",
   "language": "python",
   "name": "python2"
  },
  "language_info": {
   "codemirror_mode": {
    "name": "ipython",
    "version": 2
   },
   "file_extension": ".py",
   "mimetype": "text/x-python",
   "name": "python",
   "nbconvert_exporter": "python",
   "pygments_lexer": "ipython2",
   "version": "2.7.10"
  }
 },
 "nbformat": 4,
 "nbformat_minor": 0
}
