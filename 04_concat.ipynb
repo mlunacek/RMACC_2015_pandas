{
 "cells": [
  {
   "cell_type": "markdown",
   "metadata": {},
   "source": [
    "#Concat "
   ]
  },
  {
   "cell_type": "code",
   "execution_count": null,
   "metadata": {
    "collapsed": true
   },
   "outputs": [],
   "source": [
    "import pandas as pd\n",
    "import os"
   ]
  },
  {
   "cell_type": "markdown",
   "metadata": {},
   "source": [
    "Our `read_csv` function."
   ]
  },
  {
   "cell_type": "code",
   "execution_count": null,
   "metadata": {
    "collapsed": false
   },
   "outputs": [],
   "source": [
    "# %load utils.py\n",
    "\n",
    "import pandas as pd\n",
    "\n",
    "def read_csv(filename):\n",
    "    df = pd.read_csv(filename, skiprows=8)\n",
    "    df.rename(columns={'# timestamp': 'timestamp'}, inplace=True)\n",
    "    df['timestamp'] = pd.to_datetime(df['timestamp'])  #might not want this here\n",
    "    df.set_index('timestamp', inplace=True)\n",
    "    return df"
   ]
  },
  {
   "cell_type": "code",
   "execution_count": null,
   "metadata": {
    "collapsed": true
   },
   "outputs": [],
   "source": [
    "filenames = ['data/measured_real_power.csv',\n",
    "             'data/measured_reactive_power.csv']"
   ]
  },
  {
   "cell_type": "markdown",
   "metadata": {},
   "source": [
    "Concat"
   ]
  },
  {
   "cell_type": "code",
   "execution_count": null,
   "metadata": {
    "collapsed": false
   },
   "outputs": [],
   "source": [
    "df1 = read_csv(filenames[0])\n",
    "df2 = read_csv(filenames[1])\n",
    "\n",
    "df = pd.concat([df1, df2], axis=1) # stack side by side"
   ]
  },
  {
   "cell_type": "code",
   "execution_count": null,
   "metadata": {
    "collapsed": false
   },
   "outputs": [],
   "source": [
    "df1.shape, df2.shape, df.shape"
   ]
  },
  {
   "cell_type": "code",
   "execution_count": null,
   "metadata": {
    "collapsed": false
   },
   "outputs": [],
   "source": [
    "len(set(df.columns))"
   ]
  },
  {
   "cell_type": "code",
   "execution_count": null,
   "metadata": {
    "collapsed": false
   },
   "outputs": [],
   "source": [
    "all(df1.columns == df2.columns)"
   ]
  },
  {
   "cell_type": "markdown",
   "metadata": {},
   "source": [
    "So now we need to capture some additional information."
   ]
  },
  {
   "cell_type": "code",
   "execution_count": null,
   "metadata": {
    "collapsed": false
   },
   "outputs": [],
   "source": [
    "def read_csv(filename):\n",
    "    df = pd.read_csv(filename, skiprows=8)\n",
    "    df.rename(columns={'# timestamp': 'timestamp'}, inplace=True)\n",
    "    df.timestamp = pd.to_datetime(df.timestamp)\n",
    "    df.set_index('timestamp', inplace=True)\n",
    "    prefix = os.path.basename(filename).replace('.csv','')\n",
    "    df.columns = [ \"{}:{}\".format(prefix, x) for x in df.columns ]\n",
    "    return df\n",
    "\n",
    "df = pd.concat([ read_csv(x) for x in filenames ], axis=1)\n",
    "len(set(df.columns))"
   ]
  },
  {
   "cell_type": "markdown",
   "metadata": {},
   "source": [
    "## Glob "
   ]
  },
  {
   "cell_type": "code",
   "execution_count": null,
   "metadata": {
    "collapsed": true
   },
   "outputs": [],
   "source": [
    "import glob"
   ]
  },
  {
   "cell_type": "code",
   "execution_count": null,
   "metadata": {
    "collapsed": false
   },
   "outputs": [],
   "source": [
    "filenames = glob.glob('data/neighborhood/outputFiles/*.csv')\n",
    "\n",
    "def read_dir(filenames):\n",
    "    return pd.concat([ read_csv(x) for x in filenames ], axis=1)\n",
    "\n",
    "read_dir(filenames).shape"
   ]
  },
  {
   "cell_type": "markdown",
   "metadata": {},
   "source": [
    "Takes a while... Can we do better?"
   ]
  },
  {
   "cell_type": "code",
   "execution_count": null,
   "metadata": {
    "collapsed": false
   },
   "outputs": [],
   "source": [
    "import cProfile\n",
    "\n",
    "cProfile.run('read_dir(filenames)')"
   ]
  },
  {
   "cell_type": "code",
   "execution_count": null,
   "metadata": {
    "collapsed": false
   },
   "outputs": [],
   "source": [
    "%%writefile utils.py\n",
    "import pandas as pd\n",
    "import os\n",
    "\n",
    "def read_csv(filename):\n",
    "    df = pd.read_csv(filename, skiprows=8)\n",
    "    df.rename(columns={'# timestamp': 'timestamp'}, inplace=True)\n",
    "    #df.timestamp = pd.to_datetime(df.timestamp) #hold off for now...\n",
    "    df.set_index('timestamp', inplace=True)\n",
    "    prefix = os.path.basename(filename).replace('.csv','')\n",
    "    df.columns = [ \"{}:{}\".format(prefix, x) for x in df.columns ] \n",
    "    return df\n",
    "\n",
    "def read_dir(filenames):\n",
    "    df = pd.concat([ read_csv(x) for x in filenames ], axis=1)\n",
    "    df.index = pd.to_datetime(df.index)\n",
    "    return df"
   ]
  },
  {
   "cell_type": "code",
   "execution_count": null,
   "metadata": {
    "collapsed": false
   },
   "outputs": [],
   "source": [
    "read_dir(filenames).shape"
   ]
  },
  {
   "cell_type": "code",
   "execution_count": null,
   "metadata": {
    "collapsed": true
   },
   "outputs": [],
   "source": []
  }
 ],
 "metadata": {
  "kernelspec": {
   "display_name": "Python 2",
   "language": "python",
   "name": "python2"
  },
  "language_info": {
   "codemirror_mode": {
    "name": "ipython",
    "version": 2
   },
   "file_extension": ".py",
   "mimetype": "text/x-python",
   "name": "python",
   "nbconvert_exporter": "python",
   "pygments_lexer": "ipython2",
   "version": "2.7.10"
  }
 },
 "nbformat": 4,
 "nbformat_minor": 0
}
